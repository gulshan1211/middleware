{
 "cells": [
  {
   "cell_type": "code",
   "execution_count": 1,
   "metadata": {},
   "outputs": [],
   "source": [
    "\n",
    "import json\n",
    "import re\n",
    "import nltk\n",
    "from nltk.corpus import stopwords\n",
    "from sklearn.feature_extraction.text import TfidfVectorizer\n",
    "from sklearn.metrics.pairwise import cosine_similarity\n",
    "import numpy as np\n"
   ]
  },
  {
   "cell_type": "markdown",
   "metadata": {},
   "source": []
  },
  {
   "cell_type": "code",
   "execution_count": 1,
   "metadata": {},
   "outputs": [
    {
     "name": "stdout",
     "output_type": "stream",
     "text": [
      "Example:\n",
      "```yaml\n",
      "on:\n",
      "  pull_request_review\n",
      "```\n"
     ]
    }
   ],
   "source": [
    "print(\"Example:\\n```yaml\\non:\\n  pull_request_review\\n```\")"
   ]
  },
  {
   "cell_type": "code",
   "execution_count": 2,
   "metadata": {},
   "outputs": [],
   "source": [
    "# Load data from a JSON file\n",
    "with open('questions.json', 'r') as file:\n",
    "    data = json.load(file)\n",
    "\n",
    "# Extract questions, answers, and URLs\n",
    "questions = [item['question'] for item in data]\n",
    "answers = [item['answer'] for item in data]\n",
    "urls = [item['url'] for item in data]\n"
   ]
  },
  {
   "cell_type": "code",
   "execution_count": 3,
   "metadata": {},
   "outputs": [
    {
     "name": "stderr",
     "output_type": "stream",
     "text": [
      "[nltk_data] Downloading package stopwords to\n",
      "[nltk_data]     C:\\Users\\gulsh\\AppData\\Roaming\\nltk_data...\n",
      "[nltk_data]   Package stopwords is already up-to-date!\n"
     ]
    }
   ],
   "source": [
    "nltk.download('stopwords')\n",
    "stop_words = set(stopwords.words('english'))\n"
   ]
  },
  {
   "cell_type": "code",
   "execution_count": 4,
   "metadata": {},
   "outputs": [],
   "source": [
    "# Define a set of pronouns to remove\n",
    "pronouns = {'i', 'me', 'my', 'myself', 'we', 'our', 'ours', 'ourselves', \n",
    "            'you', 'your', 'yours', 'yourself', 'yourselves', 'he', 'him', \n",
    "            'his', 'himself', 'she', 'her', 'hers', 'herself', 'it', 'its', \n",
    "            'itself', 'they', 'them', 'their', 'theirs', 'themselves'}\n",
    "\n",
    "def preprocess_question(question):\n",
    "    # Remove punctuation and special characters\n",
    "    question = re.sub(r'[^\\w\\s]', '', question)\n",
    "    # Convert to lowercase\n",
    "    question = question.lower()\n",
    "    # Tokenize the question\n",
    "    question_words = question.split()\n",
    "    # Remove stop words and pronouns\n",
    "    filtered_words = [word for word in question_words if word not in stop_words and word not in pronouns]\n",
    "    return ' '.join(filtered_words)\n",
    "\n",
    "# Preprocess questions\n",
    "preprocessed_questions = [preprocess_question(q) for q in questions]\n"
   ]
  },
  {
   "cell_type": "code",
   "execution_count": 5,
   "metadata": {},
   "outputs": [],
   "source": [
    "# Compute TF-IDF vectors for the stored questions\n",
    "vectorizer = TfidfVectorizer()\n",
    "tfidf_matrix = vectorizer.fit_transform(preprocessed_questions)\n"
   ]
  },
  {
   "cell_type": "code",
   "execution_count": 6,
   "metadata": {},
   "outputs": [],
   "source": [
    "import pickle\n",
    "\n",
    "# After computing the tfidf_matrix\n",
    "with open('tfidf_vectorizer.pkl', 'wb') as f:\n",
    "    pickle.dump(vectorizer, f)\n",
    "with open('tfidf_matrix.pkl', 'wb') as f:\n",
    "    pickle.dump(tfidf_matrix, f)\n"
   ]
  },
  {
   "cell_type": "code",
   "execution_count": 7,
   "metadata": {},
   "outputs": [],
   "source": [
    "def get_best_match_answer(user_question):\n",
    "    # Preprocess the user's question\n",
    "    preprocessed_user_question = preprocess_question(user_question)\n",
    "    # Compute TF-IDF vector for the user's question\n",
    "    user_question_vector = vectorizer.transform([preprocessed_user_question])\n",
    "    # Compute cosine similarity between user's question vector and stored question vectors\n",
    "    cos_similarities = cosine_similarity(user_question_vector, tfidf_matrix)\n",
    "    # Find the index of the highest similarity\n",
    "    best_match_index = np.argmax(cos_similarities)\n",
    "    # Return the answer corresponding to the best-matched question\n",
    "    return answers[best_match_index], urls[best_match_index]\n"
   ]
  },
  {
   "cell_type": "code",
   "execution_count": 8,
   "metadata": {},
   "outputs": [
    {
     "name": "stdout",
     "output_type": "stream",
     "text": [
      "Best Answer: REST API is an architectural style for designing networked applications using stateless communication.\n",
      "URL: http://example.com/restapi\n"
     ]
    }
   ],
   "source": [
    "user_question = \"how and what do we know about REST api\"\n",
    "best_answer, best_url = get_best_match_answer(user_question)\n",
    "print(f\"Best Answer: {best_answer}\")\n",
    "print(f\"URL: {best_url}\")\n"
   ]
  }
 ],
 "metadata": {
  "kernelspec": {
   "display_name": "chat",
   "language": "python",
   "name": "python3"
  },
  "language_info": {
   "codemirror_mode": {
    "name": "ipython",
    "version": 3
   },
   "file_extension": ".py",
   "mimetype": "text/x-python",
   "name": "python",
   "nbconvert_exporter": "python",
   "pygments_lexer": "ipython3",
   "version": "3.10.4"
  }
 },
 "nbformat": 4,
 "nbformat_minor": 2
}
